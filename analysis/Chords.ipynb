{
 "cells": [
  {
   "cell_type": "code",
   "execution_count": null,
   "metadata": {},
   "outputs": [],
   "source": [
    "chords = []\n",
    "\n",
    "for x in range(12):\n",
    "  newMinor = {\"triad\": str(x) + 'm', \"transformations\": []}\n",
    "  chords.append(newMinor)\n",
    "  newMajor = {\"triad\": str(x) + 'M', \"transformations\": []}\n",
    "  chords.append(newMajor)"
   ]
  },
  {
   "cell_type": "code",
   "execution_count": null,
   "metadata": {},
   "outputs": [],
   "source": [
    "def P(str):\n",
    "  newChord = ''\n",
    "  prevRoot = str[0]\n",
    "  if str[1] == 'M':\n",
    "    newChord = prevRoot + 'm'\n",
    "  else:\n",
    "    newChord = prevRoot + 'M'\n",
    "  return newChord\n",
    "\n",
    "def L(str):\n",
    "  newChord = ''\n",
    "  prevRoot = int(str[0])\n",
    "  if str[1] == 'M':\n",
    "    newRoot = prevRoot + 4 % 12\n",
    "    newChord = \"% s\" % newRoot + 'm'\n",
    "  else:\n",
    "    newRoot = ((prevRoot - 4) + 12) % 12\n",
    "    newChord = \"% s\" % newRoot + 'M'\n",
    "  return newChord\n",
    "\n",
    "def R(str):\n",
    "  newChord = ''\n",
    "  prevRoot = int(str[0])\n",
    "  if str[1] == 'M':\n",
    "    newRoot = ((prevRoot - 3) + 12) % 12\n",
    "    newChord = \"% s\" % newRoot + 'm'\n",
    "  else:\n",
    "    newRoot = (prevRoot + 3) % 12\n",
    "    newChord = \"% s\" % newRoot + 'M'\n",
    "  return newChord"
   ]
  },
  {
   "cell_type": "code",
   "execution_count": null,
   "metadata": {},
   "outputs": [],
   "source": [
    "uniqueTransformations = []\n",
    "\n",
    "def transformation(triad, transformations):\n",
    "  newTriad = triad\n",
    "  for x in transformations:\n",
    "    if x == 'P':\n",
    "      newTriad = P(newTriad)\n",
    "    elif x == 'L':\n",
    "      newTriad = L(newTriad)\n",
    "    elif x == 'R':\n",
    "      newTriad = R(newTriad)\n",
    "  return newTriad"
   ]
  },
  {
   "attachments": {},
   "cell_type": "markdown",
   "metadata": {},
   "source": [
    "### get list of every combination of transformations with up to 6 transformations"
   ]
  },
  {
   "cell_type": "code",
   "execution_count": null,
   "metadata": {},
   "outputs": [],
   "source": [
    "_basicTransformations = ['P', 'L', 'R']\n",
    "\n",
    "def createNextTransformations (prevTrans):\n",
    "  newTrans = []\n",
    "  for trans1 in prevTrans:\n",
    "    length = len(trans1)\n",
    "    intLength = int(length) - 1\n",
    "    for trans2 in _basicTransformations:\n",
    "      if(trans1[intLength] != trans2):\n",
    "        string = str(trans1 + trans2)\n",
    "        \"\"\" containsPP = newTrans.__contains__(\"PP\")\n",
    "        containsRR = string.__contains__('RR')\n",
    "        containsLL = string.__contains__('LL')\n",
    "        if (not containsPP and not containsRR and not containsLL): \"\"\"\n",
    "        newTrans.append(string)\n",
    "  print(newTrans)\n",
    "  return newTrans\n",
    "\n",
    "secondaryTransformations = createNextTransformations(_basicTransformations)\n",
    "tertiaryTransformations = createNextTransformations(secondaryTransformations)\n",
    "quartaryTransformations = createNextTransformations(tertiaryTransformations)\n",
    "quintaryTransformations = createNextTransformations(quartaryTransformations)\n",
    "sextaryTransformations = [] \n",
    "\"\"\" createNextTransformations(quintaryTransformations) \"\"\"\n",
    "\n",
    "allTransformations = [*_basicTransformations, *secondaryTransformations, *tertiaryTransformations, *quartaryTransformations, *quintaryTransformations, *sextaryTransformations]"
   ]
  },
  {
   "cell_type": "code",
   "execution_count": null,
   "metadata": {},
   "outputs": [],
   "source": [
    "allResults = []\n",
    "for trans in allTransformations:\n",
    "  result = transformation('0M',trans)\n",
    "  allResults.append({\"transformation\": trans, \"chord\": result})"
   ]
  },
  {
   "cell_type": "code",
   "execution_count": null,
   "metadata": {},
   "outputs": [],
   "source": [
    "for item in chords:\n",
    "  for result in allResults:\n",
    "    if (item[\"triad\"] == result[\"chord\"]):\n",
    "      trans = item[\"transformations\"]\n",
    "      trans.append(result[\"transformation\"])\n",
    "\n",
    "print(chords)"
   ]
  },
  {
   "attachments": {},
   "cell_type": "markdown",
   "metadata": {},
   "source": [
    "# Results\n",
    "\n",
    "0M: '', \n",
    "\n",
    "0m: 'P'\n",
    "4m: 'L'\n",
    "9m: 'R'\n",
    "\n",
    "3M: 'PR', M (chromatic mediant)\n",
    "9M: 'RP', \n",
    "4M: 'LP',\n",
    "8M: 'PL',\n",
    "5M: 'RL',\n",
    "7M: 'LR', \n",
    "\n",
    "1m: 'LPR/RPL', S (slide)\n",
    "2m: 'RLR',\n",
    "3m: 'PRP','\n",
    "5m: 'PLR/RLP', N (nebenverwandt)\n",
    "6m: 'RPR',\n",
    "7m: 'PRL/LRP', \n",
    "8m: 'PLP/LPL', H (hexatonic pole)\n",
    "11m: 'LRL',\n",
    "\n",
    "1M: 'LPRP/RPLP',\n",
    "11M:'LRLP',\n",
    "2M: 'RLRL'\n",
    "10M: 'RLRL', \n",
    "6M: 'PRPR/RPRP',\n",
    "\n",
    "10m: 'PLRLR/RLRLP',"
   ]
  }
 ],
 "metadata": {
  "kernelspec": {
   "display_name": "Python 3",
   "language": "python",
   "name": "python3"
  },
  "language_info": {
   "codemirror_mode": {
    "name": "ipython",
    "version": 3
   },
   "file_extension": ".py",
   "mimetype": "text/x-python",
   "name": "python",
   "nbconvert_exporter": "python",
   "pygments_lexer": "ipython3",
   "version": "3.10.9 (tags/v3.10.9:1dd9be6, Dec  6 2022, 20:01:21) [MSC v.1934 64 bit (AMD64)]"
  },
  "orig_nbformat": 4,
  "vscode": {
   "interpreter": {
    "hash": "fd19e19b30bb384e42d063171fd60227c9601adf12fec74744a0d300464a27bf"
   }
  }
 },
 "nbformat": 4,
 "nbformat_minor": 2
}
